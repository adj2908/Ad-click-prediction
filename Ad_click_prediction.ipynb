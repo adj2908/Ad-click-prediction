{
 "cells": [
  {
   "cell_type": "code",
   "execution_count": 63,
   "metadata": {
    "collapsed": true
   },
   "outputs": [],
   "source": [
    "# Import libraries necessary for this project\n",
    "import numpy as np\n",
    "import pandas as pd\n",
    "import matplotlib.pyplot as plt\n",
    "%matplotlib inline"
   ]
  },
  {
   "cell_type": "code",
   "execution_count": 2,
   "metadata": {
    "collapsed": true
   },
   "outputs": [],
   "source": [
    "train_data_raw=pd.read_csv(\"train.csv\")#imorting the files"
   ]
  },
  {
   "cell_type": "code",
   "execution_count": 3,
   "metadata": {
    "collapsed": false
   },
   "outputs": [
    {
     "data": {
      "text/html": [
       "<div>\n",
       "<table border=\"1\" class=\"dataframe\">\n",
       "  <thead>\n",
       "    <tr style=\"text-align: right;\">\n",
       "      <th></th>\n",
       "      <th>ID</th>\n",
       "      <th>datetime</th>\n",
       "      <th>siteid</th>\n",
       "      <th>offerid</th>\n",
       "      <th>category</th>\n",
       "      <th>merchant</th>\n",
       "      <th>countrycode</th>\n",
       "      <th>browserid</th>\n",
       "      <th>devid</th>\n",
       "      <th>click</th>\n",
       "    </tr>\n",
       "  </thead>\n",
       "  <tbody>\n",
       "    <tr>\n",
       "      <th>0</th>\n",
       "      <td>IDsrk7SoW</td>\n",
       "      <td>2017-01-14 09:42:09</td>\n",
       "      <td>4709696.0</td>\n",
       "      <td>887235</td>\n",
       "      <td>17714</td>\n",
       "      <td>20301556</td>\n",
       "      <td>e</td>\n",
       "      <td>Firefox</td>\n",
       "      <td>NaN</td>\n",
       "      <td>0</td>\n",
       "    </tr>\n",
       "    <tr>\n",
       "      <th>1</th>\n",
       "      <td>IDmMSxHur</td>\n",
       "      <td>2017-01-18 17:50:53</td>\n",
       "      <td>5189467.0</td>\n",
       "      <td>178235</td>\n",
       "      <td>21407</td>\n",
       "      <td>9434818</td>\n",
       "      <td>b</td>\n",
       "      <td>Mozilla Firefox</td>\n",
       "      <td>Desktop</td>\n",
       "      <td>0</td>\n",
       "    </tr>\n",
       "    <tr>\n",
       "      <th>2</th>\n",
       "      <td>IDVLNN0Ut</td>\n",
       "      <td>2017-01-11 12:46:49</td>\n",
       "      <td>98480.0</td>\n",
       "      <td>518539</td>\n",
       "      <td>25085</td>\n",
       "      <td>2050923</td>\n",
       "      <td>a</td>\n",
       "      <td>Edge</td>\n",
       "      <td>NaN</td>\n",
       "      <td>0</td>\n",
       "    </tr>\n",
       "    <tr>\n",
       "      <th>3</th>\n",
       "      <td>ID32T6wwQ</td>\n",
       "      <td>2017-01-17 10:18:43</td>\n",
       "      <td>8896401.0</td>\n",
       "      <td>390352</td>\n",
       "      <td>40339</td>\n",
       "      <td>72089744</td>\n",
       "      <td>c</td>\n",
       "      <td>Firefox</td>\n",
       "      <td>Mobile</td>\n",
       "      <td>0</td>\n",
       "    </tr>\n",
       "    <tr>\n",
       "      <th>4</th>\n",
       "      <td>IDqUShzMg</td>\n",
       "      <td>2017-01-14 16:02:33</td>\n",
       "      <td>5635120.0</td>\n",
       "      <td>472937</td>\n",
       "      <td>12052</td>\n",
       "      <td>39507200</td>\n",
       "      <td>d</td>\n",
       "      <td>Mozilla Firefox</td>\n",
       "      <td>Desktop</td>\n",
       "      <td>0</td>\n",
       "    </tr>\n",
       "  </tbody>\n",
       "</table>\n",
       "</div>"
      ],
      "text/plain": [
       "          ID             datetime     siteid  offerid  category  merchant  \\\n",
       "0  IDsrk7SoW  2017-01-14 09:42:09  4709696.0   887235     17714  20301556   \n",
       "1  IDmMSxHur  2017-01-18 17:50:53  5189467.0   178235     21407   9434818   \n",
       "2  IDVLNN0Ut  2017-01-11 12:46:49    98480.0   518539     25085   2050923   \n",
       "3  ID32T6wwQ  2017-01-17 10:18:43  8896401.0   390352     40339  72089744   \n",
       "4  IDqUShzMg  2017-01-14 16:02:33  5635120.0   472937     12052  39507200   \n",
       "\n",
       "  countrycode        browserid    devid  click  \n",
       "0           e          Firefox      NaN      0  \n",
       "1           b  Mozilla Firefox  Desktop      0  \n",
       "2           a             Edge      NaN      0  \n",
       "3           c          Firefox   Mobile      0  \n",
       "4           d  Mozilla Firefox  Desktop      0  "
      ]
     },
     "execution_count": 3,
     "metadata": {},
     "output_type": "execute_result"
    }
   ],
   "source": [
    "train_data_raw.head(5) #displaying a part of the train data"
   ]
  },
  {
   "cell_type": "code",
   "execution_count": 4,
   "metadata": {
    "collapsed": false
   },
   "outputs": [
    {
     "name": "stdout",
     "output_type": "stream",
     "text": [
      "Total number of records in train data: 12137810\n"
     ]
    }
   ],
   "source": [
    "n_records_train = len(train_data_raw) #no of records in train data\n",
    "\n",
    "# Print the results\n",
    "print \"Total number of records in train data: {}\".format(n_records_train)"
   ]
  },
  {
   "cell_type": "markdown",
   "metadata": {},
   "source": [
    "Now since my dataset is too large and due to lack of resouces this dataset is not possible for me to train so what i have done is i have kept that to a single merchant so i have reconstructed my dataset for that single merchant. "
   ]
  },
  {
   "cell_type": "code",
   "execution_count": 5,
   "metadata": {
    "collapsed": true
   },
   "outputs": [],
   "source": [
    "train_data=train_data_raw.loc[train_data_raw['merchant'] == 39507200]"
   ]
  },
  {
   "cell_type": "code",
   "execution_count": 6,
   "metadata": {
    "collapsed": false
   },
   "outputs": [
    {
     "data": {
      "text/html": [
       "<div>\n",
       "<table border=\"1\" class=\"dataframe\">\n",
       "  <thead>\n",
       "    <tr style=\"text-align: right;\">\n",
       "      <th></th>\n",
       "      <th>ID</th>\n",
       "      <th>datetime</th>\n",
       "      <th>siteid</th>\n",
       "      <th>offerid</th>\n",
       "      <th>category</th>\n",
       "      <th>merchant</th>\n",
       "      <th>countrycode</th>\n",
       "      <th>browserid</th>\n",
       "      <th>devid</th>\n",
       "      <th>click</th>\n",
       "    </tr>\n",
       "  </thead>\n",
       "  <tbody>\n",
       "    <tr>\n",
       "      <th>4</th>\n",
       "      <td>IDqUShzMg</td>\n",
       "      <td>2017-01-14 16:02:33</td>\n",
       "      <td>5635120.0</td>\n",
       "      <td>472937</td>\n",
       "      <td>12052</td>\n",
       "      <td>39507200</td>\n",
       "      <td>d</td>\n",
       "      <td>Mozilla Firefox</td>\n",
       "      <td>Desktop</td>\n",
       "      <td>0</td>\n",
       "    </tr>\n",
       "    <tr>\n",
       "      <th>465</th>\n",
       "      <td>IDANdp4FF</td>\n",
       "      <td>2017-01-14 11:25:25</td>\n",
       "      <td>357752.0</td>\n",
       "      <td>498861</td>\n",
       "      <td>12052</td>\n",
       "      <td>39507200</td>\n",
       "      <td>b</td>\n",
       "      <td>Google Chrome</td>\n",
       "      <td>Mobile</td>\n",
       "      <td>0</td>\n",
       "    </tr>\n",
       "    <tr>\n",
       "      <th>2241</th>\n",
       "      <td>IDuWyZH2g</td>\n",
       "      <td>2017-01-18 15:32:20</td>\n",
       "      <td>4646416.0</td>\n",
       "      <td>20025</td>\n",
       "      <td>12052</td>\n",
       "      <td>39507200</td>\n",
       "      <td>b</td>\n",
       "      <td>Edge</td>\n",
       "      <td>Tablet</td>\n",
       "      <td>0</td>\n",
       "    </tr>\n",
       "    <tr>\n",
       "      <th>2299</th>\n",
       "      <td>IDy86CPzM</td>\n",
       "      <td>2017-01-11 12:41:35</td>\n",
       "      <td>9652480.0</td>\n",
       "      <td>999876</td>\n",
       "      <td>12052</td>\n",
       "      <td>39507200</td>\n",
       "      <td>a</td>\n",
       "      <td>Google Chrome</td>\n",
       "      <td>Mobile</td>\n",
       "      <td>0</td>\n",
       "    </tr>\n",
       "    <tr>\n",
       "      <th>3337</th>\n",
       "      <td>IDzIlMAb8</td>\n",
       "      <td>2017-01-16 15:00:23</td>\n",
       "      <td>1043601.0</td>\n",
       "      <td>237378</td>\n",
       "      <td>12052</td>\n",
       "      <td>39507200</td>\n",
       "      <td>a</td>\n",
       "      <td>Firefox</td>\n",
       "      <td>Mobile</td>\n",
       "      <td>0</td>\n",
       "    </tr>\n",
       "  </tbody>\n",
       "</table>\n",
       "</div>"
      ],
      "text/plain": [
       "             ID             datetime     siteid  offerid  category  merchant  \\\n",
       "4     IDqUShzMg  2017-01-14 16:02:33  5635120.0   472937     12052  39507200   \n",
       "465   IDANdp4FF  2017-01-14 11:25:25   357752.0   498861     12052  39507200   \n",
       "2241  IDuWyZH2g  2017-01-18 15:32:20  4646416.0    20025     12052  39507200   \n",
       "2299  IDy86CPzM  2017-01-11 12:41:35  9652480.0   999876     12052  39507200   \n",
       "3337  IDzIlMAb8  2017-01-16 15:00:23  1043601.0   237378     12052  39507200   \n",
       "\n",
       "     countrycode        browserid    devid  click  \n",
       "4              d  Mozilla Firefox  Desktop      0  \n",
       "465            b    Google Chrome   Mobile      0  \n",
       "2241           b             Edge   Tablet      0  \n",
       "2299           a    Google Chrome   Mobile      0  \n",
       "3337           a          Firefox   Mobile      0  "
      ]
     },
     "execution_count": 6,
     "metadata": {},
     "output_type": "execute_result"
    }
   ],
   "source": [
    "train_data.head(5) #displaying a part of the train data"
   ]
  },
  {
   "cell_type": "code",
   "execution_count": 7,
   "metadata": {
    "collapsed": false
   },
   "outputs": [
    {
     "data": {
      "text/plain": [
       "29920"
      ]
     },
     "execution_count": 7,
     "metadata": {},
     "output_type": "execute_result"
    }
   ],
   "source": [
    "len(train_data)"
   ]
  },
  {
   "cell_type": "markdown",
   "metadata": {},
   "source": [
    "Now we can see that we have reduced our dataset to considerably smaller size so that this becomes easy for me to train."
   ]
  },
  {
   "cell_type": "markdown",
   "metadata": {},
   "source": [
    "Now we will check for missing values per column and fill that space with -999 for integer datatype and None for string type data.We will do that for both train and test dataset"
   ]
  },
  {
   "cell_type": "code",
   "execution_count": 9,
   "metadata": {
    "collapsed": false
   },
   "outputs": [
    {
     "data": {
      "text/plain": [
       "ID             0.000000\n",
       "datetime       0.000000\n",
       "siteid         0.101437\n",
       "offerid        0.000000\n",
       "category       0.000000\n",
       "merchant       0.000000\n",
       "countrycode    0.000000\n",
       "browserid      0.049933\n",
       "devid          0.151270\n",
       "click          0.000000\n",
       "dtype: float64"
      ]
     },
     "execution_count": 9,
     "metadata": {},
     "output_type": "execute_result"
    }
   ],
   "source": [
    "train_data.isnull().sum(axis=0)/train_data.shape[0]"
   ]
  },
  {
   "cell_type": "code",
   "execution_count": null,
   "metadata": {
    "collapsed": false
   },
   "outputs": [],
   "source": [
    "train_data['browserid'].fillna(\"None\", inplace=True)\n",
    "\n",
    "train_data['siteid'].fillna(-999, inplace=True)\n",
    "\n",
    "train_data['devid'].fillna(\"None\", inplace=True)\n"
   ]
  },
  {
   "cell_type": "markdown",
   "metadata": {},
   "source": [
    "Now we will convert datetime to a pandas readable type and then we will extract hours and the weekdays from that.We are doing this as in our dataset the ads are based in the month of **January 2017** so we are just using the weekday(Sunday-0, Monday=1,Tuesday=2 like this) and hours based on 24 hrs clock.We will do this for both test and train datasets."
   ]
  },
  {
   "cell_type": "code",
   "execution_count": null,
   "metadata": {
    "collapsed": false
   },
   "outputs": [],
   "source": [
    "# set datatime\n",
    "train_data['datetime'] = pd.to_datetime(train_data['datetime'])"
   ]
  },
  {
   "cell_type": "code",
   "execution_count": null,
   "metadata": {
    "collapsed": false
   },
   "outputs": [],
   "source": [
    "# create datetime variable\n",
    "train_data['tweekday'] = train_data['datetime'].dt.weekday\n",
    "train_data['thour'] = train_data['datetime'].dt.hour"
   ]
  },
  {
   "cell_type": "markdown",
   "metadata": {},
   "source": [
    "Now our train and test datasets looks something like this "
   ]
  },
  {
   "cell_type": "code",
   "execution_count": 13,
   "metadata": {
    "collapsed": false
   },
   "outputs": [
    {
     "data": {
      "text/html": [
       "<div>\n",
       "<table border=\"1\" class=\"dataframe\">\n",
       "  <thead>\n",
       "    <tr style=\"text-align: right;\">\n",
       "      <th></th>\n",
       "      <th>ID</th>\n",
       "      <th>datetime</th>\n",
       "      <th>siteid</th>\n",
       "      <th>offerid</th>\n",
       "      <th>category</th>\n",
       "      <th>merchant</th>\n",
       "      <th>countrycode</th>\n",
       "      <th>browserid</th>\n",
       "      <th>devid</th>\n",
       "      <th>click</th>\n",
       "      <th>tweekday</th>\n",
       "      <th>thour</th>\n",
       "    </tr>\n",
       "  </thead>\n",
       "  <tbody>\n",
       "    <tr>\n",
       "      <th>4</th>\n",
       "      <td>IDqUShzMg</td>\n",
       "      <td>2017-01-14 16:02:33</td>\n",
       "      <td>5635120.0</td>\n",
       "      <td>472937</td>\n",
       "      <td>12052</td>\n",
       "      <td>39507200</td>\n",
       "      <td>d</td>\n",
       "      <td>Mozilla Firefox</td>\n",
       "      <td>Desktop</td>\n",
       "      <td>0</td>\n",
       "      <td>5</td>\n",
       "      <td>16</td>\n",
       "    </tr>\n",
       "    <tr>\n",
       "      <th>465</th>\n",
       "      <td>IDANdp4FF</td>\n",
       "      <td>2017-01-14 11:25:25</td>\n",
       "      <td>357752.0</td>\n",
       "      <td>498861</td>\n",
       "      <td>12052</td>\n",
       "      <td>39507200</td>\n",
       "      <td>b</td>\n",
       "      <td>Google Chrome</td>\n",
       "      <td>Mobile</td>\n",
       "      <td>0</td>\n",
       "      <td>5</td>\n",
       "      <td>11</td>\n",
       "    </tr>\n",
       "    <tr>\n",
       "      <th>2241</th>\n",
       "      <td>IDuWyZH2g</td>\n",
       "      <td>2017-01-18 15:32:20</td>\n",
       "      <td>4646416.0</td>\n",
       "      <td>20025</td>\n",
       "      <td>12052</td>\n",
       "      <td>39507200</td>\n",
       "      <td>b</td>\n",
       "      <td>Edge</td>\n",
       "      <td>Tablet</td>\n",
       "      <td>0</td>\n",
       "      <td>2</td>\n",
       "      <td>15</td>\n",
       "    </tr>\n",
       "    <tr>\n",
       "      <th>2299</th>\n",
       "      <td>IDy86CPzM</td>\n",
       "      <td>2017-01-11 12:41:35</td>\n",
       "      <td>9652480.0</td>\n",
       "      <td>999876</td>\n",
       "      <td>12052</td>\n",
       "      <td>39507200</td>\n",
       "      <td>a</td>\n",
       "      <td>Google Chrome</td>\n",
       "      <td>Mobile</td>\n",
       "      <td>0</td>\n",
       "      <td>2</td>\n",
       "      <td>12</td>\n",
       "    </tr>\n",
       "    <tr>\n",
       "      <th>3337</th>\n",
       "      <td>IDzIlMAb8</td>\n",
       "      <td>2017-01-16 15:00:23</td>\n",
       "      <td>1043601.0</td>\n",
       "      <td>237378</td>\n",
       "      <td>12052</td>\n",
       "      <td>39507200</td>\n",
       "      <td>a</td>\n",
       "      <td>Firefox</td>\n",
       "      <td>Mobile</td>\n",
       "      <td>0</td>\n",
       "      <td>0</td>\n",
       "      <td>15</td>\n",
       "    </tr>\n",
       "  </tbody>\n",
       "</table>\n",
       "</div>"
      ],
      "text/plain": [
       "             ID            datetime     siteid  offerid  category  merchant  \\\n",
       "4     IDqUShzMg 2017-01-14 16:02:33  5635120.0   472937     12052  39507200   \n",
       "465   IDANdp4FF 2017-01-14 11:25:25   357752.0   498861     12052  39507200   \n",
       "2241  IDuWyZH2g 2017-01-18 15:32:20  4646416.0    20025     12052  39507200   \n",
       "2299  IDy86CPzM 2017-01-11 12:41:35  9652480.0   999876     12052  39507200   \n",
       "3337  IDzIlMAb8 2017-01-16 15:00:23  1043601.0   237378     12052  39507200   \n",
       "\n",
       "     countrycode        browserid    devid  click  tweekday  thour  \n",
       "4              d  Mozilla Firefox  Desktop      0         5     16  \n",
       "465            b    Google Chrome   Mobile      0         5     11  \n",
       "2241           b             Edge   Tablet      0         2     15  \n",
       "2299           a    Google Chrome   Mobile      0         2     12  \n",
       "3337           a          Firefox   Mobile      0         0     15  "
      ]
     },
     "execution_count": 13,
     "metadata": {},
     "output_type": "execute_result"
    }
   ],
   "source": [
    "train_data.head(5)"
   ]
  },
  {
   "cell_type": "markdown",
   "metadata": {},
   "source": [
    "Now we will breakdown our datasets to features and target. In our features we will drop ID's,merchant id's,datetime(as it has already been extracted to weekday,hours ) and click (which is our target variable).We are naming our features here to **features_raw** as features need to be encoded in order to be trained."
   ]
  },
  {
   "cell_type": "code",
   "execution_count": null,
   "metadata": {
    "collapsed": false
   },
   "outputs": [],
   "source": [
    "target=train_data['click']\n",
    "train_data.drop(train_data.columns[[0,1,5,9]], axis=1, inplace=True)\n",
    "features_raw=train_data.copy()# feature raw has data which is not encoded"
   ]
  },
  {
   "cell_type": "code",
   "execution_count": 18,
   "metadata": {
    "collapsed": false
   },
   "outputs": [
    {
     "name": "stdout",
     "output_type": "stream",
     "text": [
      "29920\n",
      "29920\n"
     ]
    }
   ],
   "source": [
    "print len(features_raw)\n",
    "print len(target)"
   ]
  },
  {
   "cell_type": "markdown",
   "metadata": {},
   "source": [
    "Now implementing one hot encoding"
   ]
  },
  {
   "cell_type": "code",
   "execution_count": 19,
   "metadata": {
    "collapsed": false
   },
   "outputs": [],
   "source": [
    "from sklearn.preprocessing import LabelEncoder\n",
    "features=features_raw.apply(LabelEncoder().fit_transform)"
   ]
  },
  {
   "cell_type": "code",
   "execution_count": 20,
   "metadata": {
    "collapsed": false
   },
   "outputs": [
    {
     "data": {
      "text/html": [
       "<div>\n",
       "<table border=\"1\" class=\"dataframe\">\n",
       "  <thead>\n",
       "    <tr style=\"text-align: right;\">\n",
       "      <th></th>\n",
       "      <th>siteid</th>\n",
       "      <th>offerid</th>\n",
       "      <th>category</th>\n",
       "      <th>countrycode</th>\n",
       "      <th>browserid</th>\n",
       "      <th>devid</th>\n",
       "      <th>tweekday</th>\n",
       "      <th>thour</th>\n",
       "    </tr>\n",
       "  </thead>\n",
       "  <tbody>\n",
       "    <tr>\n",
       "      <th>4</th>\n",
       "      <td>2152</td>\n",
       "      <td>1247</td>\n",
       "      <td>0</td>\n",
       "      <td>3</td>\n",
       "      <td>8</td>\n",
       "      <td>0</td>\n",
       "      <td>5</td>\n",
       "      <td>16</td>\n",
       "    </tr>\n",
       "    <tr>\n",
       "      <th>465</th>\n",
       "      <td>146</td>\n",
       "      <td>1305</td>\n",
       "      <td>0</td>\n",
       "      <td>1</td>\n",
       "      <td>3</td>\n",
       "      <td>1</td>\n",
       "      <td>5</td>\n",
       "      <td>11</td>\n",
       "    </tr>\n",
       "    <tr>\n",
       "      <th>2241</th>\n",
       "      <td>1769</td>\n",
       "      <td>51</td>\n",
       "      <td>0</td>\n",
       "      <td>1</td>\n",
       "      <td>1</td>\n",
       "      <td>3</td>\n",
       "      <td>2</td>\n",
       "      <td>15</td>\n",
       "    </tr>\n",
       "    <tr>\n",
       "      <th>2299</th>\n",
       "      <td>3635</td>\n",
       "      <td>2527</td>\n",
       "      <td>0</td>\n",
       "      <td>0</td>\n",
       "      <td>3</td>\n",
       "      <td>1</td>\n",
       "      <td>2</td>\n",
       "      <td>12</td>\n",
       "    </tr>\n",
       "    <tr>\n",
       "      <th>3337</th>\n",
       "      <td>389</td>\n",
       "      <td>603</td>\n",
       "      <td>0</td>\n",
       "      <td>0</td>\n",
       "      <td>2</td>\n",
       "      <td>1</td>\n",
       "      <td>0</td>\n",
       "      <td>15</td>\n",
       "    </tr>\n",
       "    <tr>\n",
       "      <th>3654</th>\n",
       "      <td>3308</td>\n",
       "      <td>1353</td>\n",
       "      <td>0</td>\n",
       "      <td>1</td>\n",
       "      <td>2</td>\n",
       "      <td>1</td>\n",
       "      <td>3</td>\n",
       "      <td>12</td>\n",
       "    </tr>\n",
       "    <tr>\n",
       "      <th>4382</th>\n",
       "      <td>349</td>\n",
       "      <td>2524</td>\n",
       "      <td>0</td>\n",
       "      <td>0</td>\n",
       "      <td>2</td>\n",
       "      <td>2</td>\n",
       "      <td>2</td>\n",
       "      <td>17</td>\n",
       "    </tr>\n",
       "    <tr>\n",
       "      <th>5462</th>\n",
       "      <td>1661</td>\n",
       "      <td>1582</td>\n",
       "      <td>0</td>\n",
       "      <td>0</td>\n",
       "      <td>3</td>\n",
       "      <td>1</td>\n",
       "      <td>3</td>\n",
       "      <td>18</td>\n",
       "    </tr>\n",
       "    <tr>\n",
       "      <th>6209</th>\n",
       "      <td>588</td>\n",
       "      <td>777</td>\n",
       "      <td>0</td>\n",
       "      <td>1</td>\n",
       "      <td>2</td>\n",
       "      <td>1</td>\n",
       "      <td>4</td>\n",
       "      <td>9</td>\n",
       "    </tr>\n",
       "    <tr>\n",
       "      <th>6935</th>\n",
       "      <td>1129</td>\n",
       "      <td>253</td>\n",
       "      <td>0</td>\n",
       "      <td>0</td>\n",
       "      <td>2</td>\n",
       "      <td>1</td>\n",
       "      <td>1</td>\n",
       "      <td>17</td>\n",
       "    </tr>\n",
       "    <tr>\n",
       "      <th>7567</th>\n",
       "      <td>1205</td>\n",
       "      <td>2078</td>\n",
       "      <td>0</td>\n",
       "      <td>1</td>\n",
       "      <td>2</td>\n",
       "      <td>1</td>\n",
       "      <td>1</td>\n",
       "      <td>11</td>\n",
       "    </tr>\n",
       "    <tr>\n",
       "      <th>8104</th>\n",
       "      <td>251</td>\n",
       "      <td>229</td>\n",
       "      <td>0</td>\n",
       "      <td>4</td>\n",
       "      <td>2</td>\n",
       "      <td>1</td>\n",
       "      <td>5</td>\n",
       "      <td>15</td>\n",
       "    </tr>\n",
       "    <tr>\n",
       "      <th>9321</th>\n",
       "      <td>2052</td>\n",
       "      <td>974</td>\n",
       "      <td>0</td>\n",
       "      <td>0</td>\n",
       "      <td>2</td>\n",
       "      <td>1</td>\n",
       "      <td>2</td>\n",
       "      <td>8</td>\n",
       "    </tr>\n",
       "    <tr>\n",
       "      <th>9580</th>\n",
       "      <td>1664</td>\n",
       "      <td>779</td>\n",
       "      <td>0</td>\n",
       "      <td>0</td>\n",
       "      <td>2</td>\n",
       "      <td>1</td>\n",
       "      <td>1</td>\n",
       "      <td>12</td>\n",
       "    </tr>\n",
       "    <tr>\n",
       "      <th>9694</th>\n",
       "      <td>2196</td>\n",
       "      <td>20</td>\n",
       "      <td>0</td>\n",
       "      <td>1</td>\n",
       "      <td>11</td>\n",
       "      <td>3</td>\n",
       "      <td>2</td>\n",
       "      <td>8</td>\n",
       "    </tr>\n",
       "    <tr>\n",
       "      <th>10085</th>\n",
       "      <td>389</td>\n",
       "      <td>603</td>\n",
       "      <td>0</td>\n",
       "      <td>1</td>\n",
       "      <td>0</td>\n",
       "      <td>0</td>\n",
       "      <td>0</td>\n",
       "      <td>15</td>\n",
       "    </tr>\n",
       "    <tr>\n",
       "      <th>10148</th>\n",
       "      <td>0</td>\n",
       "      <td>779</td>\n",
       "      <td>0</td>\n",
       "      <td>1</td>\n",
       "      <td>2</td>\n",
       "      <td>1</td>\n",
       "      <td>2</td>\n",
       "      <td>17</td>\n",
       "    </tr>\n",
       "    <tr>\n",
       "      <th>10227</th>\n",
       "      <td>1759</td>\n",
       "      <td>188</td>\n",
       "      <td>0</td>\n",
       "      <td>0</td>\n",
       "      <td>1</td>\n",
       "      <td>3</td>\n",
       "      <td>2</td>\n",
       "      <td>14</td>\n",
       "    </tr>\n",
       "    <tr>\n",
       "      <th>11344</th>\n",
       "      <td>315</td>\n",
       "      <td>706</td>\n",
       "      <td>0</td>\n",
       "      <td>0</td>\n",
       "      <td>1</td>\n",
       "      <td>3</td>\n",
       "      <td>2</td>\n",
       "      <td>10</td>\n",
       "    </tr>\n",
       "    <tr>\n",
       "      <th>11813</th>\n",
       "      <td>752</td>\n",
       "      <td>1637</td>\n",
       "      <td>0</td>\n",
       "      <td>1</td>\n",
       "      <td>1</td>\n",
       "      <td>3</td>\n",
       "      <td>5</td>\n",
       "      <td>12</td>\n",
       "    </tr>\n",
       "    <tr>\n",
       "      <th>12848</th>\n",
       "      <td>1772</td>\n",
       "      <td>288</td>\n",
       "      <td>0</td>\n",
       "      <td>0</td>\n",
       "      <td>0</td>\n",
       "      <td>0</td>\n",
       "      <td>1</td>\n",
       "      <td>16</td>\n",
       "    </tr>\n",
       "    <tr>\n",
       "      <th>13007</th>\n",
       "      <td>2829</td>\n",
       "      <td>2263</td>\n",
       "      <td>0</td>\n",
       "      <td>0</td>\n",
       "      <td>2</td>\n",
       "      <td>2</td>\n",
       "      <td>3</td>\n",
       "      <td>15</td>\n",
       "    </tr>\n",
       "    <tr>\n",
       "      <th>13145</th>\n",
       "      <td>2674</td>\n",
       "      <td>755</td>\n",
       "      <td>0</td>\n",
       "      <td>1</td>\n",
       "      <td>8</td>\n",
       "      <td>0</td>\n",
       "      <td>3</td>\n",
       "      <td>16</td>\n",
       "    </tr>\n",
       "    <tr>\n",
       "      <th>13444</th>\n",
       "      <td>1244</td>\n",
       "      <td>2214</td>\n",
       "      <td>0</td>\n",
       "      <td>0</td>\n",
       "      <td>10</td>\n",
       "      <td>1</td>\n",
       "      <td>4</td>\n",
       "      <td>11</td>\n",
       "    </tr>\n",
       "    <tr>\n",
       "      <th>14012</th>\n",
       "      <td>368</td>\n",
       "      <td>90</td>\n",
       "      <td>0</td>\n",
       "      <td>1</td>\n",
       "      <td>2</td>\n",
       "      <td>1</td>\n",
       "      <td>0</td>\n",
       "      <td>16</td>\n",
       "    </tr>\n",
       "    <tr>\n",
       "      <th>14247</th>\n",
       "      <td>1181</td>\n",
       "      <td>2405</td>\n",
       "      <td>0</td>\n",
       "      <td>1</td>\n",
       "      <td>2</td>\n",
       "      <td>1</td>\n",
       "      <td>1</td>\n",
       "      <td>12</td>\n",
       "    </tr>\n",
       "    <tr>\n",
       "      <th>14960</th>\n",
       "      <td>1349</td>\n",
       "      <td>2168</td>\n",
       "      <td>0</td>\n",
       "      <td>1</td>\n",
       "      <td>3</td>\n",
       "      <td>1</td>\n",
       "      <td>5</td>\n",
       "      <td>15</td>\n",
       "    </tr>\n",
       "    <tr>\n",
       "      <th>15246</th>\n",
       "      <td>741</td>\n",
       "      <td>420</td>\n",
       "      <td>0</td>\n",
       "      <td>1</td>\n",
       "      <td>6</td>\n",
       "      <td>2</td>\n",
       "      <td>4</td>\n",
       "      <td>3</td>\n",
       "    </tr>\n",
       "    <tr>\n",
       "      <th>15271</th>\n",
       "      <td>1386</td>\n",
       "      <td>2067</td>\n",
       "      <td>0</td>\n",
       "      <td>1</td>\n",
       "      <td>2</td>\n",
       "      <td>1</td>\n",
       "      <td>4</td>\n",
       "      <td>13</td>\n",
       "    </tr>\n",
       "    <tr>\n",
       "      <th>15377</th>\n",
       "      <td>2002</td>\n",
       "      <td>1404</td>\n",
       "      <td>0</td>\n",
       "      <td>5</td>\n",
       "      <td>2</td>\n",
       "      <td>1</td>\n",
       "      <td>2</td>\n",
       "      <td>12</td>\n",
       "    </tr>\n",
       "    <tr>\n",
       "      <th>...</th>\n",
       "      <td>...</td>\n",
       "      <td>...</td>\n",
       "      <td>...</td>\n",
       "      <td>...</td>\n",
       "      <td>...</td>\n",
       "      <td>...</td>\n",
       "      <td>...</td>\n",
       "      <td>...</td>\n",
       "    </tr>\n",
       "    <tr>\n",
       "      <th>12125328</th>\n",
       "      <td>3356</td>\n",
       "      <td>1559</td>\n",
       "      <td>0</td>\n",
       "      <td>3</td>\n",
       "      <td>2</td>\n",
       "      <td>1</td>\n",
       "      <td>4</td>\n",
       "      <td>17</td>\n",
       "    </tr>\n",
       "    <tr>\n",
       "      <th>12125400</th>\n",
       "      <td>0</td>\n",
       "      <td>192</td>\n",
       "      <td>0</td>\n",
       "      <td>1</td>\n",
       "      <td>8</td>\n",
       "      <td>0</td>\n",
       "      <td>4</td>\n",
       "      <td>14</td>\n",
       "    </tr>\n",
       "    <tr>\n",
       "      <th>12127146</th>\n",
       "      <td>765</td>\n",
       "      <td>1112</td>\n",
       "      <td>0</td>\n",
       "      <td>1</td>\n",
       "      <td>1</td>\n",
       "      <td>3</td>\n",
       "      <td>4</td>\n",
       "      <td>3</td>\n",
       "    </tr>\n",
       "    <tr>\n",
       "      <th>12127915</th>\n",
       "      <td>1598</td>\n",
       "      <td>856</td>\n",
       "      <td>0</td>\n",
       "      <td>3</td>\n",
       "      <td>3</td>\n",
       "      <td>1</td>\n",
       "      <td>1</td>\n",
       "      <td>11</td>\n",
       "    </tr>\n",
       "    <tr>\n",
       "      <th>12128344</th>\n",
       "      <td>1587</td>\n",
       "      <td>970</td>\n",
       "      <td>0</td>\n",
       "      <td>1</td>\n",
       "      <td>2</td>\n",
       "      <td>2</td>\n",
       "      <td>2</td>\n",
       "      <td>6</td>\n",
       "    </tr>\n",
       "    <tr>\n",
       "      <th>12128632</th>\n",
       "      <td>2581</td>\n",
       "      <td>1451</td>\n",
       "      <td>0</td>\n",
       "      <td>1</td>\n",
       "      <td>1</td>\n",
       "      <td>2</td>\n",
       "      <td>6</td>\n",
       "      <td>10</td>\n",
       "    </tr>\n",
       "    <tr>\n",
       "      <th>12129298</th>\n",
       "      <td>2582</td>\n",
       "      <td>1441</td>\n",
       "      <td>0</td>\n",
       "      <td>2</td>\n",
       "      <td>6</td>\n",
       "      <td>0</td>\n",
       "      <td>5</td>\n",
       "      <td>15</td>\n",
       "    </tr>\n",
       "    <tr>\n",
       "      <th>12130112</th>\n",
       "      <td>607</td>\n",
       "      <td>1583</td>\n",
       "      <td>0</td>\n",
       "      <td>1</td>\n",
       "      <td>8</td>\n",
       "      <td>0</td>\n",
       "      <td>1</td>\n",
       "      <td>9</td>\n",
       "    </tr>\n",
       "    <tr>\n",
       "      <th>12130118</th>\n",
       "      <td>0</td>\n",
       "      <td>205</td>\n",
       "      <td>0</td>\n",
       "      <td>1</td>\n",
       "      <td>2</td>\n",
       "      <td>1</td>\n",
       "      <td>5</td>\n",
       "      <td>15</td>\n",
       "    </tr>\n",
       "    <tr>\n",
       "      <th>12131010</th>\n",
       "      <td>315</td>\n",
       "      <td>637</td>\n",
       "      <td>0</td>\n",
       "      <td>1</td>\n",
       "      <td>9</td>\n",
       "      <td>3</td>\n",
       "      <td>2</td>\n",
       "      <td>10</td>\n",
       "    </tr>\n",
       "    <tr>\n",
       "      <th>12131188</th>\n",
       "      <td>3528</td>\n",
       "      <td>50</td>\n",
       "      <td>0</td>\n",
       "      <td>5</td>\n",
       "      <td>3</td>\n",
       "      <td>1</td>\n",
       "      <td>4</td>\n",
       "      <td>15</td>\n",
       "    </tr>\n",
       "    <tr>\n",
       "      <th>12131355</th>\n",
       "      <td>0</td>\n",
       "      <td>1484</td>\n",
       "      <td>0</td>\n",
       "      <td>0</td>\n",
       "      <td>2</td>\n",
       "      <td>1</td>\n",
       "      <td>0</td>\n",
       "      <td>16</td>\n",
       "    </tr>\n",
       "    <tr>\n",
       "      <th>12131853</th>\n",
       "      <td>227</td>\n",
       "      <td>358</td>\n",
       "      <td>0</td>\n",
       "      <td>3</td>\n",
       "      <td>2</td>\n",
       "      <td>1</td>\n",
       "      <td>4</td>\n",
       "      <td>13</td>\n",
       "    </tr>\n",
       "    <tr>\n",
       "      <th>12132150</th>\n",
       "      <td>741</td>\n",
       "      <td>2368</td>\n",
       "      <td>0</td>\n",
       "      <td>0</td>\n",
       "      <td>2</td>\n",
       "      <td>1</td>\n",
       "      <td>4</td>\n",
       "      <td>2</td>\n",
       "    </tr>\n",
       "    <tr>\n",
       "      <th>12132270</th>\n",
       "      <td>1230</td>\n",
       "      <td>2352</td>\n",
       "      <td>0</td>\n",
       "      <td>1</td>\n",
       "      <td>1</td>\n",
       "      <td>3</td>\n",
       "      <td>6</td>\n",
       "      <td>9</td>\n",
       "    </tr>\n",
       "    <tr>\n",
       "      <th>12132272</th>\n",
       "      <td>566</td>\n",
       "      <td>329</td>\n",
       "      <td>0</td>\n",
       "      <td>2</td>\n",
       "      <td>2</td>\n",
       "      <td>1</td>\n",
       "      <td>4</td>\n",
       "      <td>10</td>\n",
       "    </tr>\n",
       "    <tr>\n",
       "      <th>12132851</th>\n",
       "      <td>599</td>\n",
       "      <td>1261</td>\n",
       "      <td>0</td>\n",
       "      <td>0</td>\n",
       "      <td>9</td>\n",
       "      <td>3</td>\n",
       "      <td>4</td>\n",
       "      <td>13</td>\n",
       "    </tr>\n",
       "    <tr>\n",
       "      <th>12132966</th>\n",
       "      <td>3225</td>\n",
       "      <td>141</td>\n",
       "      <td>0</td>\n",
       "      <td>0</td>\n",
       "      <td>7</td>\n",
       "      <td>2</td>\n",
       "      <td>1</td>\n",
       "      <td>16</td>\n",
       "    </tr>\n",
       "    <tr>\n",
       "      <th>12134525</th>\n",
       "      <td>718</td>\n",
       "      <td>533</td>\n",
       "      <td>0</td>\n",
       "      <td>5</td>\n",
       "      <td>2</td>\n",
       "      <td>1</td>\n",
       "      <td>2</td>\n",
       "      <td>15</td>\n",
       "    </tr>\n",
       "    <tr>\n",
       "      <th>12134809</th>\n",
       "      <td>2603</td>\n",
       "      <td>1768</td>\n",
       "      <td>0</td>\n",
       "      <td>3</td>\n",
       "      <td>7</td>\n",
       "      <td>0</td>\n",
       "      <td>2</td>\n",
       "      <td>18</td>\n",
       "    </tr>\n",
       "    <tr>\n",
       "      <th>12134822</th>\n",
       "      <td>789</td>\n",
       "      <td>731</td>\n",
       "      <td>0</td>\n",
       "      <td>1</td>\n",
       "      <td>1</td>\n",
       "      <td>3</td>\n",
       "      <td>4</td>\n",
       "      <td>15</td>\n",
       "    </tr>\n",
       "    <tr>\n",
       "      <th>12134837</th>\n",
       "      <td>2882</td>\n",
       "      <td>2145</td>\n",
       "      <td>0</td>\n",
       "      <td>2</td>\n",
       "      <td>8</td>\n",
       "      <td>0</td>\n",
       "      <td>2</td>\n",
       "      <td>18</td>\n",
       "    </tr>\n",
       "    <tr>\n",
       "      <th>12134940</th>\n",
       "      <td>57</td>\n",
       "      <td>2379</td>\n",
       "      <td>0</td>\n",
       "      <td>0</td>\n",
       "      <td>1</td>\n",
       "      <td>3</td>\n",
       "      <td>1</td>\n",
       "      <td>12</td>\n",
       "    </tr>\n",
       "    <tr>\n",
       "      <th>12134967</th>\n",
       "      <td>1727</td>\n",
       "      <td>703</td>\n",
       "      <td>0</td>\n",
       "      <td>0</td>\n",
       "      <td>8</td>\n",
       "      <td>0</td>\n",
       "      <td>0</td>\n",
       "      <td>16</td>\n",
       "    </tr>\n",
       "    <tr>\n",
       "      <th>12135117</th>\n",
       "      <td>427</td>\n",
       "      <td>703</td>\n",
       "      <td>0</td>\n",
       "      <td>1</td>\n",
       "      <td>3</td>\n",
       "      <td>1</td>\n",
       "      <td>1</td>\n",
       "      <td>17</td>\n",
       "    </tr>\n",
       "    <tr>\n",
       "      <th>12135297</th>\n",
       "      <td>393</td>\n",
       "      <td>2114</td>\n",
       "      <td>0</td>\n",
       "      <td>3</td>\n",
       "      <td>7</td>\n",
       "      <td>0</td>\n",
       "      <td>4</td>\n",
       "      <td>12</td>\n",
       "    </tr>\n",
       "    <tr>\n",
       "      <th>12135439</th>\n",
       "      <td>711</td>\n",
       "      <td>360</td>\n",
       "      <td>0</td>\n",
       "      <td>2</td>\n",
       "      <td>1</td>\n",
       "      <td>3</td>\n",
       "      <td>0</td>\n",
       "      <td>11</td>\n",
       "    </tr>\n",
       "    <tr>\n",
       "      <th>12135616</th>\n",
       "      <td>2219</td>\n",
       "      <td>1785</td>\n",
       "      <td>0</td>\n",
       "      <td>4</td>\n",
       "      <td>8</td>\n",
       "      <td>0</td>\n",
       "      <td>5</td>\n",
       "      <td>13</td>\n",
       "    </tr>\n",
       "    <tr>\n",
       "      <th>12136136</th>\n",
       "      <td>2860</td>\n",
       "      <td>229</td>\n",
       "      <td>0</td>\n",
       "      <td>0</td>\n",
       "      <td>2</td>\n",
       "      <td>1</td>\n",
       "      <td>0</td>\n",
       "      <td>11</td>\n",
       "    </tr>\n",
       "    <tr>\n",
       "      <th>12136927</th>\n",
       "      <td>3576</td>\n",
       "      <td>2125</td>\n",
       "      <td>0</td>\n",
       "      <td>0</td>\n",
       "      <td>3</td>\n",
       "      <td>1</td>\n",
       "      <td>4</td>\n",
       "      <td>17</td>\n",
       "    </tr>\n",
       "  </tbody>\n",
       "</table>\n",
       "<p>29920 rows × 8 columns</p>\n",
       "</div>"
      ],
      "text/plain": [
       "          siteid  offerid  category  countrycode  browserid  devid  tweekday  \\\n",
       "4           2152     1247         0            3          8      0         5   \n",
       "465          146     1305         0            1          3      1         5   \n",
       "2241        1769       51         0            1          1      3         2   \n",
       "2299        3635     2527         0            0          3      1         2   \n",
       "3337         389      603         0            0          2      1         0   \n",
       "3654        3308     1353         0            1          2      1         3   \n",
       "4382         349     2524         0            0          2      2         2   \n",
       "5462        1661     1582         0            0          3      1         3   \n",
       "6209         588      777         0            1          2      1         4   \n",
       "6935        1129      253         0            0          2      1         1   \n",
       "7567        1205     2078         0            1          2      1         1   \n",
       "8104         251      229         0            4          2      1         5   \n",
       "9321        2052      974         0            0          2      1         2   \n",
       "9580        1664      779         0            0          2      1         1   \n",
       "9694        2196       20         0            1         11      3         2   \n",
       "10085        389      603         0            1          0      0         0   \n",
       "10148          0      779         0            1          2      1         2   \n",
       "10227       1759      188         0            0          1      3         2   \n",
       "11344        315      706         0            0          1      3         2   \n",
       "11813        752     1637         0            1          1      3         5   \n",
       "12848       1772      288         0            0          0      0         1   \n",
       "13007       2829     2263         0            0          2      2         3   \n",
       "13145       2674      755         0            1          8      0         3   \n",
       "13444       1244     2214         0            0         10      1         4   \n",
       "14012        368       90         0            1          2      1         0   \n",
       "14247       1181     2405         0            1          2      1         1   \n",
       "14960       1349     2168         0            1          3      1         5   \n",
       "15246        741      420         0            1          6      2         4   \n",
       "15271       1386     2067         0            1          2      1         4   \n",
       "15377       2002     1404         0            5          2      1         2   \n",
       "...          ...      ...       ...          ...        ...    ...       ...   \n",
       "12125328    3356     1559         0            3          2      1         4   \n",
       "12125400       0      192         0            1          8      0         4   \n",
       "12127146     765     1112         0            1          1      3         4   \n",
       "12127915    1598      856         0            3          3      1         1   \n",
       "12128344    1587      970         0            1          2      2         2   \n",
       "12128632    2581     1451         0            1          1      2         6   \n",
       "12129298    2582     1441         0            2          6      0         5   \n",
       "12130112     607     1583         0            1          8      0         1   \n",
       "12130118       0      205         0            1          2      1         5   \n",
       "12131010     315      637         0            1          9      3         2   \n",
       "12131188    3528       50         0            5          3      1         4   \n",
       "12131355       0     1484         0            0          2      1         0   \n",
       "12131853     227      358         0            3          2      1         4   \n",
       "12132150     741     2368         0            0          2      1         4   \n",
       "12132270    1230     2352         0            1          1      3         6   \n",
       "12132272     566      329         0            2          2      1         4   \n",
       "12132851     599     1261         0            0          9      3         4   \n",
       "12132966    3225      141         0            0          7      2         1   \n",
       "12134525     718      533         0            5          2      1         2   \n",
       "12134809    2603     1768         0            3          7      0         2   \n",
       "12134822     789      731         0            1          1      3         4   \n",
       "12134837    2882     2145         0            2          8      0         2   \n",
       "12134940      57     2379         0            0          1      3         1   \n",
       "12134967    1727      703         0            0          8      0         0   \n",
       "12135117     427      703         0            1          3      1         1   \n",
       "12135297     393     2114         0            3          7      0         4   \n",
       "12135439     711      360         0            2          1      3         0   \n",
       "12135616    2219     1785         0            4          8      0         5   \n",
       "12136136    2860      229         0            0          2      1         0   \n",
       "12136927    3576     2125         0            0          3      1         4   \n",
       "\n",
       "          thour  \n",
       "4            16  \n",
       "465          11  \n",
       "2241         15  \n",
       "2299         12  \n",
       "3337         15  \n",
       "3654         12  \n",
       "4382         17  \n",
       "5462         18  \n",
       "6209          9  \n",
       "6935         17  \n",
       "7567         11  \n",
       "8104         15  \n",
       "9321          8  \n",
       "9580         12  \n",
       "9694          8  \n",
       "10085        15  \n",
       "10148        17  \n",
       "10227        14  \n",
       "11344        10  \n",
       "11813        12  \n",
       "12848        16  \n",
       "13007        15  \n",
       "13145        16  \n",
       "13444        11  \n",
       "14012        16  \n",
       "14247        12  \n",
       "14960        15  \n",
       "15246         3  \n",
       "15271        13  \n",
       "15377        12  \n",
       "...         ...  \n",
       "12125328     17  \n",
       "12125400     14  \n",
       "12127146      3  \n",
       "12127915     11  \n",
       "12128344      6  \n",
       "12128632     10  \n",
       "12129298     15  \n",
       "12130112      9  \n",
       "12130118     15  \n",
       "12131010     10  \n",
       "12131188     15  \n",
       "12131355     16  \n",
       "12131853     13  \n",
       "12132150      2  \n",
       "12132270      9  \n",
       "12132272     10  \n",
       "12132851     13  \n",
       "12132966     16  \n",
       "12134525     15  \n",
       "12134809     18  \n",
       "12134822     15  \n",
       "12134837     18  \n",
       "12134940     12  \n",
       "12134967     16  \n",
       "12135117     17  \n",
       "12135297     12  \n",
       "12135439     11  \n",
       "12135616     13  \n",
       "12136136     11  \n",
       "12136927     17  \n",
       "\n",
       "[29920 rows x 8 columns]"
      ]
     },
     "execution_count": 20,
     "metadata": {},
     "output_type": "execute_result"
    }
   ],
   "source": [
    "features"
   ]
  },
  {
   "cell_type": "markdown",
   "metadata": {},
   "source": [
    "Here some descriptive statistics of the features. Use of pandas describe method "
   ]
  },
  {
   "cell_type": "code",
   "execution_count": 62,
   "metadata": {
    "collapsed": false
   },
   "outputs": [
    {
     "data": {
      "text/html": [
       "<div>\n",
       "<table border=\"1\" class=\"dataframe\">\n",
       "  <thead>\n",
       "    <tr style=\"text-align: right;\">\n",
       "      <th></th>\n",
       "      <th>siteid</th>\n",
       "      <th>offerid</th>\n",
       "      <th>category</th>\n",
       "      <th>countrycode</th>\n",
       "      <th>browserid</th>\n",
       "      <th>devid</th>\n",
       "      <th>tweekday</th>\n",
       "      <th>thour</th>\n",
       "    </tr>\n",
       "  </thead>\n",
       "  <tbody>\n",
       "    <tr>\n",
       "      <th>count</th>\n",
       "      <td>29920.000000</td>\n",
       "      <td>29920.000000</td>\n",
       "      <td>29920.0</td>\n",
       "      <td>29920.000000</td>\n",
       "      <td>29920.000000</td>\n",
       "      <td>29920.000000</td>\n",
       "      <td>29920.000000</td>\n",
       "      <td>29920.000000</td>\n",
       "    </tr>\n",
       "    <tr>\n",
       "      <th>mean</th>\n",
       "      <td>1590.506852</td>\n",
       "      <td>1251.756049</td>\n",
       "      <td>0.0</td>\n",
       "      <td>1.624866</td>\n",
       "      <td>3.529980</td>\n",
       "      <td>1.486731</td>\n",
       "      <td>2.785027</td>\n",
       "      <td>12.682587</td>\n",
       "    </tr>\n",
       "    <tr>\n",
       "      <th>std</th>\n",
       "      <td>1125.697155</td>\n",
       "      <td>739.255387</td>\n",
       "      <td>0.0</td>\n",
       "      <td>1.621032</td>\n",
       "      <td>2.920468</td>\n",
       "      <td>1.133531</td>\n",
       "      <td>1.750844</td>\n",
       "      <td>3.779531</td>\n",
       "    </tr>\n",
       "    <tr>\n",
       "      <th>min</th>\n",
       "      <td>0.000000</td>\n",
       "      <td>0.000000</td>\n",
       "      <td>0.0</td>\n",
       "      <td>0.000000</td>\n",
       "      <td>0.000000</td>\n",
       "      <td>0.000000</td>\n",
       "      <td>0.000000</td>\n",
       "      <td>0.000000</td>\n",
       "    </tr>\n",
       "    <tr>\n",
       "      <th>25%</th>\n",
       "      <td>588.000000</td>\n",
       "      <td>646.000000</td>\n",
       "      <td>0.0</td>\n",
       "      <td>1.000000</td>\n",
       "      <td>1.000000</td>\n",
       "      <td>1.000000</td>\n",
       "      <td>1.000000</td>\n",
       "      <td>10.000000</td>\n",
       "    </tr>\n",
       "    <tr>\n",
       "      <th>50%</th>\n",
       "      <td>1491.000000</td>\n",
       "      <td>1233.000000</td>\n",
       "      <td>0.0</td>\n",
       "      <td>1.000000</td>\n",
       "      <td>2.000000</td>\n",
       "      <td>1.000000</td>\n",
       "      <td>3.000000</td>\n",
       "      <td>13.000000</td>\n",
       "    </tr>\n",
       "    <tr>\n",
       "      <th>75%</th>\n",
       "      <td>2551.250000</td>\n",
       "      <td>1903.000000</td>\n",
       "      <td>0.0</td>\n",
       "      <td>3.000000</td>\n",
       "      <td>6.000000</td>\n",
       "      <td>3.000000</td>\n",
       "      <td>4.000000</td>\n",
       "      <td>16.000000</td>\n",
       "    </tr>\n",
       "    <tr>\n",
       "      <th>max</th>\n",
       "      <td>3757.000000</td>\n",
       "      <td>2528.000000</td>\n",
       "      <td>0.0</td>\n",
       "      <td>5.000000</td>\n",
       "      <td>11.000000</td>\n",
       "      <td>3.000000</td>\n",
       "      <td>6.000000</td>\n",
       "      <td>23.000000</td>\n",
       "    </tr>\n",
       "  </tbody>\n",
       "</table>\n",
       "</div>"
      ],
      "text/plain": [
       "             siteid       offerid  category   countrycode     browserid  \\\n",
       "count  29920.000000  29920.000000   29920.0  29920.000000  29920.000000   \n",
       "mean    1590.506852   1251.756049       0.0      1.624866      3.529980   \n",
       "std     1125.697155    739.255387       0.0      1.621032      2.920468   \n",
       "min        0.000000      0.000000       0.0      0.000000      0.000000   \n",
       "25%      588.000000    646.000000       0.0      1.000000      1.000000   \n",
       "50%     1491.000000   1233.000000       0.0      1.000000      2.000000   \n",
       "75%     2551.250000   1903.000000       0.0      3.000000      6.000000   \n",
       "max     3757.000000   2528.000000       0.0      5.000000     11.000000   \n",
       "\n",
       "              devid      tweekday         thour  \n",
       "count  29920.000000  29920.000000  29920.000000  \n",
       "mean       1.486731      2.785027     12.682587  \n",
       "std        1.133531      1.750844      3.779531  \n",
       "min        0.000000      0.000000      0.000000  \n",
       "25%        1.000000      1.000000     10.000000  \n",
       "50%        1.000000      3.000000     13.000000  \n",
       "75%        3.000000      4.000000     16.000000  \n",
       "max        3.000000      6.000000     23.000000  "
      ]
     },
     "execution_count": 62,
     "metadata": {},
     "output_type": "execute_result"
    }
   ],
   "source": [
    "features.describe()"
   ]
  },
  {
   "cell_type": "markdown",
   "metadata": {},
   "source": [
    "Now we will check for skewness in out dataset and will see if our dataset requires normalization"
   ]
  },
  {
   "cell_type": "code",
   "execution_count": 21,
   "metadata": {
    "collapsed": false
   },
   "outputs": [
    {
     "data": {
      "text/plain": [
       "siteid         0.196329\n",
       "offerid        0.058421\n",
       "category       0.000000\n",
       "countrycode    0.976677\n",
       "browserid      0.818462\n",
       "devid          0.138183\n",
       "tweekday       0.045951\n",
       "thour         -0.581345\n",
       "dtype: float64"
      ]
     },
     "execution_count": 21,
     "metadata": {},
     "output_type": "execute_result"
    }
   ],
   "source": [
    "features.skew()"
   ]
  },
  {
   "cell_type": "code",
   "execution_count": 79,
   "metadata": {
    "collapsed": false
   },
   "outputs": [
    {
     "data": {
      "text/plain": [
       "(array([ 5199.,  4119.,  2278.,  3403.,  2964.,  2422.,  2722.,  2554.,\n",
       "         2328.,  1931.]),\n",
       " array([    0. ,   375.7,   751.4,  1127.1,  1502.8,  1878.5,  2254.2,\n",
       "         2629.9,  3005.6,  3381.3,  3757. ]),\n",
       " <a list of 10 Patch objects>)"
      ]
     },
     "execution_count": 79,
     "metadata": {},
     "output_type": "execute_result"
    },
    {
     "data": {
      "image/png": "[encoded data removed]",
      "text/plain": [
       "<matplotlib.figure.Figure at 0x7debe7b8>"
      ]
     },
     "metadata": {},
     "output_type": "display_data"
    }
   ],
   "source": [
    "plt.hist(features.siteid)"
   ]
  },
  {
   "cell_type": "code",
   "execution_count": 80,
   "metadata": {
    "collapsed": false
   },
   "outputs": [
    {
     "data": {
      "text/plain": [
       "(array([ 3137.,  2607.,  4302.,  2540.,  2732.,  3015.,  2639.,  2652.,\n",
       "         3261.,  3035.]),\n",
       " array([    0. ,   252.8,   505.6,   758.4,  1011.2,  1264. ,  1516.8,\n",
       "         1769.6,  2022.4,  2275.2,  2528. ]),\n",
       " <a list of 10 Patch objects>)"
      ]
     },
     "execution_count": 80,
     "metadata": {},
     "output_type": "execute_result"
    },
    {
     "data": {
      "image/png": "[encoded data removed]",
      "text/plain": [
       "<matplotlib.figure.Figure at 0x5fc94208>"
      ]
     },
     "metadata": {},
     "output_type": "display_data"
    }
   ],
   "source": [
    "plt.hist(features.offerid)"
   ]
  },
  {
   "cell_type": "code",
   "execution_count": 82,
   "metadata": {
    "collapsed": false
   },
   "outputs": [
    {
     "data": {
      "text/plain": [
       "(array([ 3137.,  2607.,  4302.,  2540.,  2732.,  3015.,  2639.,  2652.,\n",
       "         3261.,  3035.]),\n",
       " array([    0. ,   252.8,   505.6,   758.4,  1011.2,  1264. ,  1516.8,\n",
       "         1769.6,  2022.4,  2275.2,  2528. ]),\n",
       " <a list of 10 Patch objects>)"
      ]
     },
     "execution_count": 82,
     "metadata": {},
     "output_type": "execute_result"
    },
    {
     "data": {
      "image/png": "[encoded data removed]",
      "text/plain": [
       "<matplotlib.figure.Figure at 0x7663ca90>"
      ]
     },
     "metadata": {},
     "output_type": "display_data"
    }
   ],
   "source": [
    "plt.hist(features.offerid)"
   ]
  },
  {
   "cell_type": "code",
   "execution_count": 83,
   "metadata": {
    "collapsed": false
   },
   "outputs": [
    {
     "data": {
      "text/plain": [
       "(array([ 9494.,  8352.,  1602.,   860.,   585.,  1663.,  2768.,  2497.,\n",
       "         1494.,   605.]),\n",
       " array([  0. ,   1.1,   2.2,   3.3,   4.4,   5.5,   6.6,   7.7,   8.8,\n",
       "          9.9,  11. ]),\n",
       " <a list of 10 Patch objects>)"
      ]
     },
     "execution_count": 83,
     "metadata": {},
     "output_type": "execute_result"
    },
    {
     "data": {
      "image/png": "[encoded data removed]",
      "text/plain": [
       "<matplotlib.figure.Figure at 0x840c18d0>"
      ]
     },
     "metadata": {},
     "output_type": "display_data"
    }
   ],
   "source": [
    "plt.hist(features.browserid)"
   ]
  },
  {
   "cell_type": "code",
   "execution_count": 85,
   "metadata": {
    "collapsed": false
   },
   "outputs": [
    {
     "data": {
      "text/plain": [
       "(array([ 6977.,     0.,     0.,  9910.,     0.,     0.,  4526.,     0.,\n",
       "            0.,  8507.]),\n",
       " array([ 0. ,  0.3,  0.6,  0.9,  1.2,  1.5,  1.8,  2.1,  2.4,  2.7,  3. ]),\n",
       " <a list of 10 Patch objects>)"
      ]
     },
     "execution_count": 85,
     "metadata": {},
     "output_type": "execute_result"
    },
    {
     "data": {
      "image/png": "[encoded data removed]",
      "text/plain": [
       "<matplotlib.figure.Figure at 0x8b9bf978>"
      ]
     },
     "metadata": {},
     "output_type": "display_data"
    }
   ],
   "source": [
    "plt.hist(features.devid)"
   ]
  },
  {
   "cell_type": "markdown",
   "metadata": {},
   "source": [
    "As we see that our columns are not skewed so no need to normalize our dataset so that looks fine."
   ]
  },
  {
   "cell_type": "markdown",
   "metadata": {},
   "source": [
    "### Shuffle and Split Data\n",
    "Now all _categorical variables_ have been converted into numerical features, and all numerical features we can see are already normalized. As always, we will now split the data (both features and their labels) into training and test sets. 80% of the data will be used for training and 20% for testing.\n",
    "\n",
    "Run the code cell below to perform this split."
   ]
  },
  {
   "cell_type": "code",
   "execution_count": 24,
   "metadata": {
    "collapsed": false
   },
   "outputs": [
    {
     "name": "stdout",
     "output_type": "stream",
     "text": [
      "Training set has 22440 samples.\n",
      "Testing set has 7480 samples.\n"
     ]
    }
   ],
   "source": [
    "# Import train_test_split\n",
    "from sklearn.cross_validation import train_test_split\n",
    "\n",
    "# Split the 'features' and 'income' data into training and testing sets\n",
    "X_train, X_test, y_train, y_test = train_test_split(features, target, test_size = 0.25, random_state = 42)\n",
    "\n",
    "# Show the results of the split\n",
    "print \"Training set has {} samples.\".format(X_train.shape[0])\n",
    "print \"Testing set has {} samples.\".format(X_test.shape[0])"
   ]
  },
  {
   "cell_type": "code",
   "execution_count": 25,
   "metadata": {
    "collapsed": false
   },
   "outputs": [],
   "source": [
    "# TODO: Import the supervised learning models from sklearn\n",
    "from sklearn.linear_model import LogisticRegression\n",
    "clf = LogisticRegression(random_state=10)"
   ]
  },
  {
   "cell_type": "code",
   "execution_count": 26,
   "metadata": {
    "collapsed": false
   },
   "outputs": [
    {
     "data": {
      "text/plain": [
       "LogisticRegression(C=1.0, class_weight=None, dual=False, fit_intercept=True,\n",
       "          intercept_scaling=1, max_iter=100, multi_class='ovr', n_jobs=1,\n",
       "          penalty='l2', random_state=10, solver='liblinear', tol=0.0001,\n",
       "          verbose=0, warm_start=False)"
      ]
     },
     "execution_count": 26,
     "metadata": {},
     "output_type": "execute_result"
    }
   ],
   "source": [
    "clf.fit(X_train,y_train)"
   ]
  },
  {
   "cell_type": "code",
   "execution_count": 27,
   "metadata": {
    "collapsed": false
   },
   "outputs": [],
   "source": [
    "clf_probs=clf.predict_proba()"
   ]
  },
  {
   "cell_type": "code",
   "execution_count": 40,
   "metadata": {
    "collapsed": false
   },
   "outputs": [
    {
     "name": "stdout",
     "output_type": "stream",
     "text": [
      "0.761624046996\n"
     ]
    }
   ],
   "source": [
    "from sklearn.metrics import roc_auc_score\n",
    "score=roc_auc_score(y_test,clf_probs[:, 1])\n",
    "print score"
   ]
  },
  {
   "cell_type": "code",
   "execution_count": 56,
   "metadata": {
    "collapsed": false
   },
   "outputs": [],
   "source": [
    "from sklearn.metrics import roc_curve, auc\n",
    "import matplotlib.pyplot as plt\n",
    "import random\n",
    "false_positive_rate, true_positive_rate, thresholds = roc_curve(y_test,clf_probs[:, 1])\n",
    "roc_auc = auc(false_positive_rate, true_positive_rate)\n"
   ]
  },
  {
   "cell_type": "code",
   "execution_count": 59,
   "metadata": {
    "collapsed": false
   },
   "outputs": [
    {
     "data": {
      "image/png": "[encoded data removed]",
      "text/plain": [
       "<matplotlib.figure.Figure at 0x5d549320>"
      ]
     },
     "metadata": {},
     "output_type": "display_data"
    }
   ],
   "source": [
    "plt.title('Receiver Operating Characteristic')\n",
    "plt.plot(false_positive_rate, true_positive_rate, 'b',\n",
    "label='ROC curve (area = %0.2f)'% roc_auc)\n",
    "plt.legend(loc='lower right')\n",
    "plt.plot([0,1],[0,1],'r--')\n",
    "plt.xlim([-0.1,1.2])\n",
    "plt.ylim([-0.1,1.2])\n",
    "plt.ylabel('True Positive Rate')\n",
    "plt.xlabel('False Positive Rate')\n",
    "plt.show()"
   ]
  },
  {
   "cell_type": "code",
   "execution_count": 50,
   "metadata": {
    "collapsed": false
   },
   "outputs": [],
   "source": [
    "from sklearn.grid_search import GridSearchCV\n",
    "param = {'C': [0.001, 0.01, 0.1, 1, 10, 100, 1000] }\n",
    "clf1 = GridSearchCV(clf, param_grid=param,cv=10)\n",
    "# TODO: Fit the grid search object to the training data and find the optimal parameters\n",
    "grid_fit = clf1.fit(X_train, y_train)\n",
    "best_predictions = clf1.predict_proba(X_test)"
   ]
  },
  {
   "cell_type": "code",
   "execution_count": 88,
   "metadata": {
    "collapsed": false
   },
   "outputs": [
    {
     "name": "stdout",
     "output_type": "stream",
     "text": [
      "0.798343443\n"
     ]
    }
   ],
   "source": [
    "score1=roc_auc_score(y_test,best_predictions[:, 1])\n",
    "print score1"
   ]
  },
  {
   "cell_type": "markdown",
   "metadata": {},
   "source": [
    "Now making a ROC curve for the optimized model and calculating the area under the curve."
   ]
  },
  {
   "cell_type": "code",
   "execution_count": 89,
   "metadata": {
    "collapsed": false
   },
   "outputs": [
    {
     "data": {
      "image/png": "[encoded data removed]",
      "text/plain": [
       "<matplotlib.figure.Figure at 0x705eddd8>"
      ]
     },
     "metadata": {},
     "output_type": "display_data"
    }
   ],
   "source": [
    "plt.title('Receiver Operating Characteristic')\n",
    "plt.plot(false_positive_rate, true_positive_rate, 'b',\n",
    "label='ROC curve (area = %0.2f)'% score1)\n",
    "plt.legend(loc='lower right')\n",
    "plt.plot([0,1],[0,1],'r--')\n",
    "plt.xlim([-0.1,1.2])\n",
    "plt.ylim([-0.1,1.2])\n",
    "plt.ylabel('True Positive Rate')\n",
    "plt.xlabel('False Positive Rate')\n",
    "plt.show()"
   ]
  }
 ],
 "metadata": {
  "kernelspec": {
   "display_name": "Python 2",
   "language": "python",
   "name": "python2"
  },
  "language_info": {
   "codemirror_mode": {
    "name": "ipython",
    "version": 2
   },
   "file_extension": ".py",
   "mimetype": "text/x-python",
   "name": "python",
   "nbconvert_exporter": "python",
   "pygments_lexer": "ipython2",
   "version": "2.7.13"
  }
 },
 "nbformat": 4,
 "nbformat_minor": 2
}
